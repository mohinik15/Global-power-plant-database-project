{
 "cells": [
  {
   "cell_type": "markdown",
   "id": "6e4bef44",
   "metadata": {},
   "source": [
    "# Global Power Plant Database Project"
   ]
  },
  {
   "cell_type": "raw",
   "id": "8d4138b1",
   "metadata": {},
   "source": [
    "Description\n",
    "\n",
    "The Global Power Plant Database is a comprehensive, open source database of power plants around the world. It centralizes power plant data to make it easier to navigate, compare and draw insights for one’s own analysis. The database covers approximately 35,000 power plants from 167 countries and includes thermal plants (e.g. coal, gas, oil, nuclear, biomass, waste, geothermal) and renewables (e.g. hydro, wind, solar). Each power plant is geolocated and entries contain information on plant capacity, generation, ownership, and fuel type. It will be continuously updated as data becomes available.\n",
    "\n",
    "Description\n",
    "\n",
    "The Global Power Plant Database is a comprehensive, open source database of power plants around the world. It centralizes power plant data to make it easier to navigate, compare and draw insights for one’s own analysis. The database covers approximately 35,000 power plants from 167 countries and includes thermal plants (e.g. coal, gas, oil, nuclear, biomass, waste, geothermal) and renewables (e.g. hydro, wind, solar). Each power plant is geolocated and entries contain information on plant capacity, generation, ownership, and fuel type. It will be continuously updated as data becomes available.\n",
    "\n",
    "Key attributes of the database\n",
    "\n",
    "The database includes the following indicators:\n",
    "\n",
    "country (text): 3 character country code corresponding to the ISO 3166-1 alpha-3 specification [5]\n",
    "country_long (text): longer form of the country designation\n",
    "name (text): name or title of the power plant, generally in Romanized form\n",
    "gppd_idnr (text): 10 or 12 character identifier for the power plant\n",
    "capacity_mw (number): electrical generating capacity in megawatts\n",
    "latitude (number): geolocation in decimal degrees; WGS84 (EPSG:4326)\n",
    "longitude (number): geolocation in decimal degrees; WGS84 (EPSG:4326)\n",
    "primary_fuel (text): energy source used in primary electricity generation or export\n",
    "other_fuel1 (text): energy source used in electricity generation or export\n",
    "other_fuel2 (text): energy source used in electricity generation or export\n",
    "other_fuel3 (text): energy source used in electricity generation or export\n",
    "commissioning_year (number): year of plant operation, weighted by unit-capacity when data is available\n",
    "owner (text): majority shareholder of the power plant, generally in Romanized form\n",
    "source (text): entity reporting the data; could be an organization, report, or document, generally in Romanized form\n",
    "url (text): web document corresponding to the source field\n",
    "geolocation_source (text): attribution for geolocation information\n",
    "wepp_id (text): a reference to a unique plant identifier in the widely-used PLATTS-WEPP database.\n",
    "year_of_capacity_data (number): year the capacity information was reported\n",
    "generation_data_source (text): attribution for the reported generation information\n",
    "generation_gwh_2013 (number): electricity generation in gigawatt-hours reported for the year 2013\n",
    "generation_gwh_2014 (number): electricity generation in gigawatt-hours reported for the year 2014\n",
    "generation_gwh_2015 (number): electricity generation in gigawatt-hours reported for the year 2015\n",
    "generation_gwh_2016 (number): electricity generation in gigawatt-hours reported for the year 2016\n",
    "generation_gwh_2017 (number): electricity generation in gigawatt-hours reported for the year 2017\n",
    "generation_gwh_2018 (number): electricity generation in gigawatt-hours reported for the year 2018\n",
    "generation_gwh_2019 (number): electricity generation in gigawatt-hours reported for the year 2019\n",
    "estimated_generation_gwh_2013 (number): estimated electricity generation in gigawatt-hours for the year 2013\n",
    "estimated_generation_gwh_2014 (number): estimated electricity generation in gigawatt-hours for the year 2014\n",
    "estimated_generation_gwh_2015 (number): estimated electricity generation in gigawatt-hours for the year 2015\n",
    "estimated_generation_gwh_2016 (number): estimated electricity generation in gigawatt-hours for the year 2016\n",
    "estimated_generation_gwh_2017 (number): estimated electricity generation in gigawatt-hours for the year 2017\n",
    "estimated_generation_note_2013 (text): label of the model/method used to estimate generation for the year 2013\n",
    "estimated_generation_note_2014 (text): label of the model/method used to estimate generation for the year 2014\n",
    "estimated_generation_note_2015 (text): label of the model/method used to estimate generation for the year 2015\n",
    "estimated_generation_note_2016 (text): label of the model/method used to estimate generation for the year 2016\n",
    "estimated_generation_note_2017 (text): label of the model/method used to estimate generation for the year 2017"
   ]
  },
  {
   "cell_type": "code",
   "execution_count": null,
   "id": "114b8dd9",
   "metadata": {},
   "outputs": [],
   "source": [
    "import warnings\n",
    "warnings.simplefilter(\"ignore\")\n",
    "warnings.filterwarnings(\"ignore\")\n",
    "import joblib\n",
    "\n",
    "import pandas as pd\n",
    "import numpy as np\n",
    "import seaborn as sns\n",
    "import matplotlib.pyplot as plt\n",
    "%matplotlib inline\n",
    "\n",
    "from sklearn import metrics\n",
    "from scipy.stats import zscore\n",
    "from sklearn.preprocessing import LabelEncoder\n",
    "from sklearn.preprocessing import OrdinalEncoder\n",
    "from sklearn.preprocessing import StandardScaler\n",
    "from sklearn.model_selection import train_test_split\n",
    "from sklearn.model_selection import cross_val_score\n",
    "from sklearn.model_selection import GridSearchCV\n",
    "\n",
    "# Classification\n",
    "\n",
    "from imblearn.over_sampling import SMOTE\n",
    "from sklearn.linear_model import LogisticRegression\n",
    "from sklearn.svm import SVC\n",
    "from sklearn.tree import DecisionTreeClassifier\n",
    "from sklearn.ensemble import RandomForestClassifier\n",
    "from sklearn.ensemble import ExtraTreesClassifier\n",
    "from sklearn.neighbors import KNeighborsClassifier\n",
    "from sklearn.metrics import classification_report\n",
    "from sklearn.metrics import accuracy_score\n",
    "from sklearn.metrics import roc_auc_score\n",
    "\n",
    "# Regression\n",
    "\n",
    "from sklearn.linear_model import LinearRegression, Ridge, Lasso\n",
    "from sklearn.svm import SVR\n",
    "from sklearn.tree import DecisionTreeRegressor\n",
    "from sklearn.ensemble import RandomForestRegressor\n",
    "from sklearn.neighbors import KNeighborsRegressor\n",
    "from sklearn.ensemble import AdaBoostRegressor\n",
    "from sklearn.ensemble import ExtraTreesRegressor\n",
    "from sklearn.ensemble import GradientBoostingRegressor\n",
    "from xgboost import XGBRegressor\n",
    "from sklearn.metrics import r2_score\n",
    "from sklearn.metrics import mean_squared_error"
   ]
  },
  {
   "cell_type": "code",
   "execution_count": null,
   "id": "2299fc30",
   "metadata": {},
   "outputs": [],
   "source": [
    "df = pd.read_csv(\"https://raw.githubusercontent.com/wri/global-power-plant-database/master/source_databases_csv/database_IND.csv\")"
   ]
  },
  {
   "cell_type": "code",
   "execution_count": null,
   "id": "4a67f13e",
   "metadata": {},
   "outputs": [],
   "source": [
    "df"
   ]
  },
  {
   "cell_type": "markdown",
   "id": "42ece03d",
   "metadata": {},
   "source": [
    "# Exploratory Data Analysis (EDA)"
   ]
  },
  {
   "cell_type": "code",
   "execution_count": null,
   "id": "37866c9e",
   "metadata": {},
   "outputs": [],
   "source": [
    "pd.set_option('display.max_columns', None)\n",
    "pd.set_option('display.max_rows', None)"
   ]
  },
  {
   "cell_type": "code",
   "execution_count": null,
   "id": "9a903b54",
   "metadata": {},
   "outputs": [],
   "source": [
    "df.columns"
   ]
  },
  {
   "cell_type": "code",
   "execution_count": null,
   "id": "276e735d",
   "metadata": {},
   "outputs": [],
   "source": [
    "df.isnull().sum()"
   ]
  },
  {
   "cell_type": "code",
   "execution_count": null,
   "id": "bdcd895f",
   "metadata": {},
   "outputs": [],
   "source": [
    "df.drop([\"other_fuel1\", \"other_fuel2\", \"other_fuel3\", \"owner\", \"wepp_id\", \"generation_gwh_2013\",\n",
    "        \"generation_gwh_2014\", \"generation_gwh_2015\", \"generation_gwh_2016\", \"generation_gwh_2017\",\n",
    "        \"generation_data_source\", \"estimated_generation_gwh\"], axis=1, inplace=True)"
   ]
  },
  {
   "cell_type": "code",
   "execution_count": null,
   "id": "ed47ba5b",
   "metadata": {},
   "outputs": [],
   "source": [
    "df.shape"
   ]
  },
  {
   "cell_type": "code",
   "execution_count": null,
   "id": "3c74ab0d",
   "metadata": {},
   "outputs": [],
   "source": [
    "df.nunique().to_frame(\"Unique Values\")"
   ]
  },
  {
   "cell_type": "code",
   "execution_count": null,
   "id": "0534ea10",
   "metadata": {},
   "outputs": [],
   "source": [
    "df.drop([\"country\", \"country_long\", \"year_of_capacity_data\", \"name\", \"gppd_idnr\", \"url\"], axis=1, inplace=True)"
   ]
  },
  {
   "cell_type": "code",
   "execution_count": null,
   "id": "6a394f97",
   "metadata": {},
   "outputs": [],
   "source": [
    "print(df.shape)\n",
    "df.head()"
   ]
  },
  {
   "cell_type": "code",
   "execution_count": null,
   "id": "0ed42fc7",
   "metadata": {},
   "outputs": [],
   "source": [
    "df.isna().sum()"
   ]
  },
  {
   "cell_type": "code",
   "execution_count": null,
   "id": "e9062474",
   "metadata": {},
   "outputs": [],
   "source": [
    "df.info()"
   ]
  },
  {
   "cell_type": "code",
   "execution_count": null,
   "id": "e61c332f",
   "metadata": {},
   "outputs": [],
   "source": [
    "# getting list of object data type column names\n",
    "object_datatype = []\n",
    "for x in df.dtypes.index:\n",
    "    if df.dtypes[x] == 'object':\n",
    "        object_datatype.append(x)\n",
    "print(f\"Object Data Type Columns are: \", object_datatype)\n",
    "\n",
    "\n",
    "# getting the list of float data type column names\n",
    "float_datatype = []\n",
    "for x in df.dtypes.index:\n",
    "    if df.dtypes[x] == 'float64':\n",
    "        float_datatype.append(x)\n",
    "print(f\"Float Data Type Columns are: \", float_datatype)"
   ]
  },
  {
   "cell_type": "code",
   "execution_count": null,
   "id": "3430d37e",
   "metadata": {},
   "outputs": [],
   "source": [
    "# filling missing data for continous values with mean\n",
    "df[\"latitude\"].fillna(df[\"latitude\"].mean(),inplace=True)\n",
    "df[\"longitude\"].fillna(df[\"longitude\"].mean(),inplace=True)\n",
    "\n",
    "# filling missing data for categorical values with mode\n",
    "df[\"commissioning_year\"].fillna(df[\"commissioning_year\"].mode()[0],inplace=True)\n",
    "df[\"geolocation_source\"].fillna(df[\"geolocation_source\"].mode()[0],inplace=True)"
   ]
  },
  {
   "cell_type": "code",
   "execution_count": null,
   "id": "6570c60d",
   "metadata": {},
   "outputs": [],
   "source": [
    "df.isna().sum()"
   ]
  },
  {
   "cell_type": "code",
   "execution_count": null,
   "id": "49bf0107",
   "metadata": {},
   "outputs": [],
   "source": [
    "for col in object_datatype:\n",
    "    print(col)\n",
    "    print(df[col].value_counts())\n",
    "    print(\"=\"*120)"
   ]
  },
  {
   "cell_type": "markdown",
   "id": "9c9fcda7",
   "metadata": {},
   "source": [
    "# Visualization"
   ]
  },
  {
   "cell_type": "code",
   "execution_count": null,
   "id": "17098244",
   "metadata": {},
   "outputs": [],
   "source": [
    "df.columns"
   ]
  },
  {
   "cell_type": "code",
   "execution_count": null,
   "id": "3e72f20d",
   "metadata": {},
   "outputs": [],
   "source": [
    "try:\n",
    "    plt.figure(figsize=(10,7))\n",
    "    col_name = 'primary_fuel'\n",
    "    values = df[col_name].value_counts()\n",
    "    index = 0\n",
    "    ax = sns.countplot(df[col_name], palette=\"prism\")\n",
    "\n",
    "    for i in ax.get_xticklabels():\n",
    "        ax.text(index, values[i.get_text()]/2, values[i.get_text()], \n",
    "                horizontalalignment=\"center\", fontweight='bold', color='w')\n",
    "        index += 1\n",
    "    \n",
    "    plt.title(f\"Count Plot for {col_name}\\n\")\n",
    "    plt.ylabel(f\"Number of rows\")\n",
    "    plt.show()\n",
    "    \n",
    "except Exception as e:\n",
    "    pass"
   ]
  },
  {
   "cell_type": "code",
   "execution_count": null,
   "id": "da09ac59",
   "metadata": {},
   "outputs": [],
   "source": [
    "try:\n",
    "    plt.figure(figsize=(10,7))\n",
    "    col_name = 'geolocation_source'\n",
    "    values = df[col_name].value_counts()\n",
    "    index = 0\n",
    "    ax = sns.countplot(df[col_name], palette=\"prism\")\n",
    "\n",
    "    for i in ax.get_xticklabels():\n",
    "        ax.text(index, values[i.get_text()]/2, values[i.get_text()], \n",
    "                horizontalalignment=\"center\", fontweight='bold', color='w')\n",
    "        index += 1\n",
    "    \n",
    "    plt.title(f\"Count Plot for {col_name}\\n\")\n",
    "    plt.ylabel(f\"Number of rows\")\n",
    "    plt.show()\n",
    "    \n",
    "except Exception as e:\n",
    "    pass"
   ]
  },
  {
   "cell_type": "code",
   "execution_count": null,
   "id": "bb46cea6",
   "metadata": {},
   "outputs": [],
   "source": [
    "plt.figure(figsize=(15,7))\n",
    "values = list(df['commissioning_year'].unique())\n",
    "diag = sns.countplot(df[\"commissioning_year\"], palette=\"prism\")\n",
    "diag.set_xticklabels(labels=values, rotation=90)\n",
    "plt.title(\"Year of power plant operation details\\n\")\n",
    "plt.xlabel(\"List of years weighted by unit-capacity when data is available\")\n",
    "plt.ylabel(\"Count of Rows in the Dataset\")\n",
    "plt.show()"
   ]
  },
  {
   "cell_type": "code",
   "execution_count": null,
   "id": "2e17a8b6",
   "metadata": {},
   "outputs": [],
   "source": [
    "plt.style.use('ggplot')\n",
    "sns.scatterplot(x = \"commissioning_year\", y = \"capacity_mw\", data = df)\n",
    "plt.show()"
   ]
  },
  {
   "cell_type": "code",
   "execution_count": null,
   "id": "08fbc9c2",
   "metadata": {},
   "outputs": [],
   "source": [
    "sns.scatterplot(x = \"latitude\", y = \"capacity_mw\", data = df)\n",
    "plt.show()"
   ]
  },
  {
   "cell_type": "code",
   "execution_count": null,
   "id": "878c1a12",
   "metadata": {},
   "outputs": [],
   "source": [
    "sns.scatterplot(x = \"longitude\", y = \"capacity_mw\", data = df)\n",
    "plt.show()"
   ]
  },
  {
   "cell_type": "code",
   "execution_count": null,
   "id": "3a192ffd",
   "metadata": {},
   "outputs": [],
   "source": [
    "plt.style.use('seaborn-pastel')\n",
    "sns.catplot(x = \"primary_fuel\", y = \"capacity_mw\", data = df)\n",
    "plt.show()"
   ]
  },
  {
   "cell_type": "code",
   "execution_count": null,
   "id": "8608f681",
   "metadata": {},
   "outputs": [],
   "source": [
    "sns.catplot(x = \"primary_fuel\", y = \"latitude\", data = df)\n",
    "plt.show()"
   ]
  },
  {
   "cell_type": "code",
   "execution_count": null,
   "id": "dad9191b",
   "metadata": {},
   "outputs": [],
   "source": [
    "sns.catplot(x = \"primary_fuel\", y = \"latitude\", data = df)\n",
    "plt.show()"
   ]
  },
  {
   "cell_type": "code",
   "execution_count": null,
   "id": "3c662a5e",
   "metadata": {},
   "outputs": [],
   "source": [
    "fig, ax = plt.subplots(ncols=4, nrows=1, figsize=(15,5))\n",
    "index = 0\n",
    "ax = ax.flatten()\n",
    "for col, value in df[float_datatype].items():\n",
    "    sns.boxplot(y=col, data=df, ax=ax[index], palette=\"Set1\")\n",
    "    index += 1\n",
    "plt.tight_layout(pad=0.4, w_pad=0.4, h_pad=1.0)\n",
    "plt.show()"
   ]
  },
  {
   "cell_type": "code",
   "execution_count": null,
   "id": "5f3330e8",
   "metadata": {},
   "outputs": [],
   "source": [
    "fig, ax = plt.subplots(ncols=4, nrows=1, figsize=(15,5))\n",
    "index = 0\n",
    "ax = ax.flatten()\n",
    "for col, value in df[float_datatype].items():\n",
    "    sns.distplot(value, ax=ax[index], hist=False, color=\"g\", kde_kws={\"shade\": True})\n",
    "    index += 1\n",
    "plt.tight_layout(pad=0.4, w_pad=0.4, h_pad=1.0)\n",
    "plt.show()"
   ]
  },
  {
   "cell_type": "code",
   "execution_count": null,
   "id": "1767a49c",
   "metadata": {},
   "outputs": [],
   "source": [
    "plt.style.use('bmh')\n",
    "g = sns.pairplot(df)\n",
    "for ax in g.axes.flat:\n",
    "    ax.tick_params(\"x\", labelrotation=90)\n",
    "plt.show()"
   ]
  },
  {
   "cell_type": "markdown",
   "id": "333a8c13",
   "metadata": {},
   "source": [
    "# Encoding all the object datatype columns"
   ]
  },
  {
   "cell_type": "code",
   "execution_count": null,
   "id": "41553022",
   "metadata": {},
   "outputs": [],
   "source": [
    "# Label Encoder\n",
    "\n",
    "le = LabelEncoder()\n",
    "df[\"primary_fuel\"] = le.fit_transform(df[\"primary_fuel\"])\n",
    "df.head()"
   ]
  },
  {
   "cell_type": "code",
   "execution_count": null,
   "id": "4f8e0d0b",
   "metadata": {},
   "outputs": [],
   "source": [
    "# Ordinal Encoder\n",
    "\n",
    "oe = OrdinalEncoder()\n",
    "df['geolocation_source'] = oe.fit_transform(df['geolocation_source'].values.reshape(-1,1))\n",
    "df['source'] = oe.fit_transform(df['source'].values.reshape(-1,1))\n",
    "df.head()"
   ]
  },
  {
   "cell_type": "markdown",
   "id": "42e4b02e",
   "metadata": {},
   "source": [
    "# Correlation using a Heatmap"
   ]
  },
  {
   "cell_type": "code",
   "execution_count": null,
   "id": "719ef8d2",
   "metadata": {},
   "outputs": [],
   "source": [
    "upper_triangle = np.triu(df.corr())\n",
    "plt.figure(figsize=(10,7))\n",
    "sns.heatmap(df.corr(), vmin=-1, vmax=1, annot=True, square=True, fmt='0.3f', \n",
    "            annot_kws={'size':10}, cmap=\"cubehelix\", mask=upper_triangle)\n",
    "plt.xticks(fontsize=14)\n",
    "plt.yticks(fontsize=14)\n",
    "plt.show()"
   ]
  },
  {
   "cell_type": "markdown",
   "id": "aa1ff749",
   "metadata": {},
   "source": [
    "# Correlation Bar Plot comparing features with our labels\n"
   ]
  },
  {
   "cell_type": "code",
   "execution_count": null,
   "id": "6541ba18",
   "metadata": {},
   "outputs": [],
   "source": [
    "plt.style.use('dark_background')\n",
    "df_corr = df.corr()\n",
    "plt.figure(figsize=(10,5))\n",
    "df_corr['primary_fuel'].sort_values(ascending=False).drop('primary_fuel').plot.bar()\n",
    "plt.title(\"Correlation of Features vs Classification Label\\n\", fontsize=16)\n",
    "plt.xlabel(\"\\nFeatures List\", fontsize=14)\n",
    "plt.ylabel(\"Correlation Value\", fontsize=12)\n",
    "plt.show()"
   ]
  },
  {
   "cell_type": "code",
   "execution_count": null,
   "id": "c722710e",
   "metadata": {},
   "outputs": [],
   "source": [
    "df_corr = df.corr()\n",
    "plt.figure(figsize=(10,5))\n",
    "df_corr['capacity_mw'].sort_values(ascending=False).drop('capacity_mw').plot.bar()\n",
    "plt.title(\"Correlation of Features vs Regression Label\\n\", fontsize=16)\n",
    "plt.xlabel(\"\\nFeatures List\", fontsize=14)\n",
    "plt.ylabel(\"Correlation Value\", fontsize=12)\n",
    "plt.show()"
   ]
  },
  {
   "cell_type": "markdown",
   "id": "c2c4e30c",
   "metadata": {},
   "source": [
    "# Using Z Score to remove outliers"
   ]
  },
  {
   "cell_type": "code",
   "execution_count": null,
   "id": "8df58c98",
   "metadata": {},
   "outputs": [],
   "source": [
    "z = np.abs(zscore(df))\n",
    "threshold = 3\n",
    "df1 = df[(z<3).all(axis = 1)]\n",
    "\n",
    "print (\"Shape of the dataframe before removing outliers: \", df.shape)\n",
    "print (\"Shape of the dataframe after removing outliers: \", df1.shape)\n",
    "print (\"Percentage of data loss post outlier removal: \", (df.shape[0]-df1.shape[0])/df.shape[0]*100)\n",
    "\n",
    "df=df1.copy() # reassigning the changed dataframe name to our original dataframe name"
   ]
  },
  {
   "cell_type": "code",
   "execution_count": null,
   "id": "3b634ac4",
   "metadata": {},
   "outputs": [],
   "source": [
    "df.skew()"
   ]
  },
  {
   "cell_type": "markdown",
   "id": "e6b25d9b",
   "metadata": {},
   "source": [
    "# Using Log Transform to fix skewness"
   ]
  },
  {
   "cell_type": "code",
   "execution_count": null,
   "id": "ca7c79dd",
   "metadata": {},
   "outputs": [],
   "source": [
    "for col in float_datatype:\n",
    "    if df.skew().loc[col]>0.55:\n",
    "        df[col]=np.log1p(df[col])"
   ]
  },
  {
   "cell_type": "markdown",
   "id": "1b17fcf8",
   "metadata": {},
   "source": [
    "# Splitting the dataset into 2 variables namely 'X' and 'Y' for feature and classification label"
   ]
  },
  {
   "cell_type": "code",
   "execution_count": null,
   "id": "3719bea4",
   "metadata": {},
   "outputs": [],
   "source": [
    "X = df.drop('primary_fuel', axis=1)\n",
    "Y = df['primary_fuel']"
   ]
  },
  {
   "cell_type": "markdown",
   "id": "3c4c44ea",
   "metadata": {},
   "source": [
    "# Resolving the class imbalance issue in our label column"
   ]
  },
  {
   "cell_type": "code",
   "execution_count": null,
   "id": "35fd7a05",
   "metadata": {},
   "outputs": [],
   "source": [
    "Y.value_counts()"
   ]
  },
  {
   "cell_type": "code",
   "execution_count": null,
   "id": "eeb28435",
   "metadata": {},
   "outputs": [],
   "source": [
    "# adding samples to make all the categorical label values same\n",
    "\n",
    "oversample = SMOTE()\n",
    "X, Y = oversample.fit_resample(X, Y)"
   ]
  },
  {
   "cell_type": "code",
   "execution_count": null,
   "id": "bcfc8e42",
   "metadata": {},
   "outputs": [],
   "source": [
    "y.value_counts()"
   ]
  },
  {
   "cell_type": "markdown",
   "id": "b47f981b",
   "metadata": {},
   "source": [
    "# Feature Scaling"
   ]
  },
  {
   "cell_type": "code",
   "execution_count": null,
   "id": "c1c29ada",
   "metadata": {},
   "outputs": [],
   "source": [
    "scaler = StandardScaler()\n",
    "X = pd.DataFrame(scaler.fit_transform(X), columns=X.columns)\n",
    "X.head()"
   ]
  },
  {
   "cell_type": "markdown",
   "id": "c5cea092",
   "metadata": {},
   "source": [
    "# Finding best random state for building Classification Models"
   ]
  },
  {
   "cell_type": "code",
   "execution_count": null,
   "id": "b5685893",
   "metadata": {},
   "outputs": [],
   "source": [
    "maxAccu=0\n",
    "maxRS=0\n",
    "\n",
    "for i in range(1, 500):\n",
    "    X_train, X_test, Y_train, Y_test = train_test_split(X, Y, test_size=0.25, random_state=i)\n",
    "    lr=LogisticRegression()\n",
    "    lr.fit(X_train, Y_train)\n",
    "    pred = lr.predict(X_test)\n",
    "    acc_score = (accuracy_score(Y_test, pred))*100\n",
    "    \n",
    "    if acc_score>maxAccu:\n",
    "        maxAccu=acc_score\n",
    "        maxRS=i\n",
    "\n",
    "print(\"Best accuracy score is\", maxAccu,\"on Random State\", maxRS)"
   ]
  },
  {
   "cell_type": "markdown",
   "id": "6cf2c377",
   "metadata": {},
   "source": [
    "# Machine Learning Model for Classification with Evaluation Metrics"
   ]
  },
  {
   "cell_type": "code",
   "execution_count": null,
   "id": "c8c73f21",
   "metadata": {},
   "outputs": [],
   "source": [
    "# Classification Model Function\n",
    "\n",
    "def classify(model, X, Y):\n",
    "    X_train, X_test, Y_train, Y_test = train_test_split(X, Y, test_size=0.25, random_state=45)\n",
    "    \n",
    "    # Training the model\n",
    "    model.fit(X_train, Y_train)\n",
    "    \n",
    "    # Predicting Y_test\n",
    "    pred = model.predict(X_test)\n",
    "    \n",
    "    # Classification Report\n",
    "    class_report = classification_report(Y_test, pred)\n",
    "    print(\"\\nClassification Report:\\n\", class_report)\n",
    "    \n",
    "    # Accuracy Score\n",
    "    acc_score = (accuracy_score(Y_test, pred))*100\n",
    "    print(\"Accuracy Score:\", acc_score)\n",
    "    \n",
    "    # Cross Validation Score\n",
    "    cv_score = (cross_val_score(model, X, Y, cv=5).mean())*100\n",
    "    print(\"Cross Validation Score:\", cv_score)\n",
    "    \n",
    "    # Result of accuracy minus cv scores\n",
    "    result = acc_score - cv_score\n",
    "    print(\"\\nAccuracy Score - Cross Validation Score is\", result)"
   ]
  },
  {
   "cell_type": "code",
   "execution_count": null,
   "id": "9626d9b4",
   "metadata": {},
   "outputs": [],
   "source": [
    "# Logistic Regression\n",
    "\n",
    "model=LogisticRegression()\n",
    "classify(model, X, Y)"
   ]
  },
  {
   "cell_type": "code",
   "execution_count": null,
   "id": "20ac1b0a",
   "metadata": {},
   "outputs": [],
   "source": [
    "# Support Vector Classifier\n",
    "\n",
    "model=SVC(C=1.0, kernel='rbf', gamma='auto', random_state=42)\n",
    "classify(model, X, Y)"
   ]
  },
  {
   "cell_type": "code",
   "execution_count": null,
   "id": "20766115",
   "metadata": {},
   "outputs": [],
   "source": [
    "# Decision Tree Classifier\n",
    "\n",
    "model=DecisionTreeClassifier(random_state=21, max_depth=15)\n",
    "classify(model, X, Y)"
   ]
  },
  {
   "cell_type": "code",
   "execution_count": null,
   "id": "37389e56",
   "metadata": {},
   "outputs": [],
   "source": [
    "# Random Forest Classifier\n",
    "\n",
    "model=RandomForestClassifier(max_depth=15, random_state=111)\n",
    "classify(model, X, Y)"
   ]
  },
  {
   "cell_type": "code",
   "execution_count": null,
   "id": "9a8d76b2",
   "metadata": {},
   "outputs": [],
   "source": [
    "# K Neighbors Classifier\n",
    "\n",
    "model=KNeighborsClassifier(n_neighbors=15)\n",
    "classify(model, X, Y)"
   ]
  },
  {
   "cell_type": "code",
   "execution_count": null,
   "id": "d35e802f",
   "metadata": {},
   "outputs": [],
   "source": [
    "# Extra Trees Classifier\n",
    "\n",
    "model=ExtraTreesClassifier()\n",
    "classify(model, X, Y)"
   ]
  },
  {
   "cell_type": "markdown",
   "id": "49b77e8a",
   "metadata": {},
   "source": [
    "# Hyper parameter tuning on the best Classification ML Model"
   ]
  },
  {
   "cell_type": "code",
   "execution_count": null,
   "id": "7b94bee7",
   "metadata": {},
   "outputs": [],
   "source": [
    "# Choosing Extra Trees Classifier\n",
    "\n",
    "fmod_param = {'criterion' : [\"gini\", \"entropy\"],\n",
    "              'n_jobs' : [2, 1, -1],\n",
    "              'min_samples_split' : [2, 3, 4],\n",
    "              'max_depth' : [20, 25, 30],\n",
    "              'random_state' : [42, 45, 111]\n",
    "             }"
   ]
  },
  {
   "cell_type": "code",
   "execution_count": null,
   "id": "89312677",
   "metadata": {},
   "outputs": [],
   "source": [
    "GSCV = GridSearchCV(ExtraTreesClassifier(), fmod_param, cv=5)"
   ]
  },
  {
   "cell_type": "code",
   "execution_count": null,
   "id": "3edcc1e9",
   "metadata": {},
   "outputs": [],
   "source": [
    "GSCV.fit(X_train,Y_train)"
   ]
  },
  {
   "cell_type": "code",
   "execution_count": null,
   "id": "18c24b07",
   "metadata": {},
   "outputs": [],
   "source": [
    "GSCV.best_params_"
   ]
  },
  {
   "cell_type": "code",
   "execution_count": null,
   "id": "e016d0b4",
   "metadata": {},
   "outputs": [],
   "source": [
    "Final_Model = ExtraTreesClassifier(criterion=\"gini\", max_depth=30, min_samples_split=4, n_jobs=2, random_state=42)\n",
    "Classifier = Final_Model.fit(X_train, Y_train)\n",
    "fmod_pred = Final_Model.predict(X_test)\n",
    "fmod_acc = (accuracy_score(Y_test, fmod_pred))*100\n",
    "print(\"Accuracy score for the Best Model is:\", fmod_acc)"
   ]
  },
  {
   "cell_type": "markdown",
   "id": "a45cf7f8",
   "metadata": {},
   "source": [
    "# AUC ROC Curve for multi class label"
   ]
  },
  {
   "cell_type": "code",
   "execution_count": null,
   "id": "9f17023f",
   "metadata": {},
   "outputs": [],
   "source": [
    "y_prob = Classifier.predict_proba(X_test)\n",
    "\n",
    "macro_roc_auc_ovo = roc_auc_score(Y_test, y_prob, multi_class=\"ovo\", average=\"macro\")\n",
    "weighted_roc_auc_ovo = roc_auc_score(Y_test, y_prob, multi_class=\"ovo\", average=\"weighted\")\n",
    "macro_roc_auc_ovr = roc_auc_score(Y_test, y_prob, multi_class=\"ovr\", average=\"macro\")\n",
    "weighted_roc_auc_ovr = roc_auc_score(Y_test, y_prob, multi_class=\"ovr\", average=\"weighted\")\n",
    "print(\"One-vs-One ROC AUC scores:\\n{:.6f} (macro),\\n{:.6f} \"\n",
    "      \"(weighted by prevalence)\"\n",
    "      .format(macro_roc_auc_ovo, weighted_roc_auc_ovo))\n",
    "print(\"=\"*40)\n",
    "print(\"One-vs-Rest ROC AUC scores:\\n{:.6f} (macro),\\n{:.6f} \"\n",
    "      \"(weighted by prevalence)\"\n",
    "      .format(macro_roc_auc_ovr, weighted_roc_auc_ovr))\n"
   ]
  },
  {
   "cell_type": "markdown",
   "id": "65fc1d43",
   "metadata": {},
   "source": [
    "# Confusion Matrix"
   ]
  },
  {
   "cell_type": "code",
   "execution_count": null,
   "id": "d7807f9c",
   "metadata": {},
   "outputs": [],
   "source": [
    "class_names = df.columns\n",
    "metrics.plot_confusion_matrix(Classifier, X_test, Y_test, cmap='mako')\n",
    "plt.title('\\t Confusion Matrix for Extra Trees Classifier \\n')\n",
    "plt.show()"
   ]
  },
  {
   "cell_type": "markdown",
   "id": "39ef6fcf",
   "metadata": {},
   "source": [
    "# Saving the best Classification ML model"
   ]
  },
  {
   "cell_type": "code",
   "execution_count": null,
   "id": "5faf3fab",
   "metadata": {},
   "outputs": [],
   "source": [
    "filename = \"FinalModel_Classification_E04.pkl\"\n",
    "joblib.dump(Final_Model, filename)"
   ]
  },
  {
   "cell_type": "markdown",
   "id": "b96afd55",
   "metadata": {},
   "source": [
    "# Splitting the dataset into 2 variables namely 'X' and 'Y' for feature and regression label"
   ]
  },
  {
   "cell_type": "code",
   "execution_count": null,
   "id": "e83f0b48",
   "metadata": {},
   "outputs": [],
   "source": [
    "X = df.drop('capacity_mw', axis=1)\n",
    "Y = df['capacity_mw']"
   ]
  },
  {
   "cell_type": "markdown",
   "id": "fcb4a623",
   "metadata": {},
   "source": [
    "# Feature Scaling"
   ]
  },
  {
   "cell_type": "code",
   "execution_count": null,
   "id": "b7473d28",
   "metadata": {},
   "outputs": [],
   "source": [
    "scaler = StandardScaler()\n",
    "X = pd.DataFrame(scaler.fit_transform(X), columns=X.columns)\n",
    "X.head() # Displaying all the features after applying scaling technique to avoid bias output"
   ]
  },
  {
   "cell_type": "markdown",
   "id": "fc48816c",
   "metadata": {},
   "source": [
    "# Finding the best random state for building Regression Models"
   ]
  },
  {
   "cell_type": "code",
   "execution_count": null,
   "id": "94d8e186",
   "metadata": {},
   "outputs": [],
   "source": [
    "maxAccu=0\n",
    "maxRS=0\n",
    "\n",
    "for i in range(1, 1000):\n",
    "    X_train, X_test, Y_train, Y_test = train_test_split(X, Y, test_size=0.25, random_state=i)\n",
    "    lr=LinearRegression()\n",
    "    lr.fit(X_train, Y_train)\n",
    "    pred = lr.predict(X_test)\n",
    "    r2 = r2_score(Y_test, pred)\n",
    "    \n",
    "    if r2>maxAccu:\n",
    "        maxAccu=r2\n",
    "        maxRS=i\n",
    "\n",
    "print(\"Best R2 score is\", maxAccu,\"on Random State\", maxRS)"
   ]
  },
  {
   "cell_type": "code",
   "execution_count": null,
   "id": "8ac86b2d",
   "metadata": {},
   "outputs": [],
   "source": [
    "# Regression Model Function\n",
    "\n",
    "def reg(model, X, Y):\n",
    "    X_train, X_test, Y_train, Y_test = train_test_split(X, Y, test_size=0.25, random_state=135)\n",
    "    \n",
    "    # Training the model\n",
    "    model.fit(X_train, Y_train)\n",
    "    \n",
    "    # Predicting Y_test\n",
    "    pred = model.predict(X_test)\n",
    "    \n",
    "    # RMSE - a lower RMSE score is better than a higher one\n",
    "    rmse = mean_squared_error(Y_test, pred, squared=False)\n",
    "    print(\"RMSE Score is:\", rmse)\n",
    "    \n",
    "    # R2 score\n",
    "    r2 = r2_score(Y_test, pred, multioutput='variance_weighted')*100\n",
    "    print(\"R2 Score is:\", r2)\n",
    "    \n",
    "    # Cross Validation Score\n",
    "    cv_score = (cross_val_score(model, X, Y, cv=5).mean())*100\n",
    "    print(\"Cross Validation Score:\", cv_score)\n",
    "    \n",
    "    # Result of r2 score minus cv score\n",
    "    result = r2 - cv_score\n",
    "    print(\"R2 Score - Cross Validation Score is\", result)"
   ]
  },
  {
   "cell_type": "code",
   "execution_count": null,
   "id": "b2e18928",
   "metadata": {},
   "outputs": [],
   "source": [
    "# Linear Regression Model\n",
    "\n",
    "model=LinearRegression()\n",
    "reg(model, X, Y)"
   ]
  },
  {
   "cell_type": "code",
   "execution_count": null,
   "id": "5880d2ee",
   "metadata": {},
   "outputs": [],
   "source": [
    "# Ridge Regression\n",
    "\n",
    "model=Ridge(alpha=1e-2, normalize=True)\n",
    "reg(model, X, Y)"
   ]
  },
  {
   "cell_type": "code",
   "execution_count": null,
   "id": "e310baf4",
   "metadata": {},
   "outputs": [],
   "source": [
    "# Lasso Regression\n",
    "\n",
    "model=Lasso(alpha=1e-2, normalize=True, max_iter=1e5)\n",
    "reg(model, X, Y)"
   ]
  },
  {
   "cell_type": "code",
   "execution_count": null,
   "id": "94ead405",
   "metadata": {},
   "outputs": [],
   "source": [
    "# Support Vector Regression\n",
    "\n",
    "model=SVR(C=1.0, epsilon=0.2, kernel='poly', gamma='auto')\n",
    "reg(model, X, Y)"
   ]
  },
  {
   "cell_type": "code",
   "execution_count": null,
   "id": "d5a3c5c8",
   "metadata": {},
   "outputs": [],
   "source": [
    "# Decision Tree Regressor\n",
    "\n",
    "model=DecisionTreeRegressor(criterion=\"poisson\", random_state=111)\n",
    "reg(model, X, Y)"
   ]
  },
  {
   "cell_type": "code",
   "execution_count": null,
   "id": "0c09029b",
   "metadata": {},
   "outputs": [],
   "source": [
    "# Random Forest Regressor\n",
    "\n",
    "model=RandomForestRegressor(max_depth=2, max_features=\"sqrt\")\n",
    "reg(model, X, Y)"
   ]
  },
  {
   "cell_type": "code",
   "execution_count": null,
   "id": "c2342575",
   "metadata": {},
   "outputs": [],
   "source": [
    "# K Neighbors Regressor\n",
    "\n",
    "KNeighborsRegressor(n_neighbors=2, algorithm='kd_tree')\n",
    "reg(model, X, Y)"
   ]
  },
  {
   "cell_type": "code",
   "execution_count": null,
   "id": "f048f8af",
   "metadata": {},
   "outputs": [],
   "source": [
    "# Gradient Boosting Regressor\n",
    "\n",
    "model=GradientBoostingRegressor(loss='quantile', n_estimators=200, max_depth=5)\n",
    "reg(model, X, Y)"
   ]
  },
  {
   "cell_type": "code",
   "execution_count": null,
   "id": "6cae87e9",
   "metadata": {},
   "outputs": [],
   "source": [
    "# Ada Boost Regressor\n",
    "\n",
    "model=AdaBoostRegressor(n_estimators=300, learning_rate=1.05, random_state=42)\n",
    "reg(model, X, Y)"
   ]
  },
  {
   "cell_type": "code",
   "execution_count": null,
   "id": "ec7163e7",
   "metadata": {},
   "outputs": [],
   "source": [
    "# Extra Trees Regressor\n",
    "\n",
    "model=ExtraTreesRegressor(n_estimators=200, max_features='sqrt', n_jobs=6)\n",
    "reg(model, X, Y)"
   ]
  },
  {
   "cell_type": "code",
   "execution_count": null,
   "id": "da4ef22c",
   "metadata": {},
   "outputs": [],
   "source": [
    "# XGB Regressor\n",
    "\n",
    "model=XGBRegressor()\n",
    "reg(model, X, Y)"
   ]
  },
  {
   "cell_type": "markdown",
   "id": "c33872fd",
   "metadata": {},
   "source": [
    "# Hyper parameter tuning on the best Regression ML Model"
   ]
  },
  {
   "cell_type": "code",
   "execution_count": null,
   "id": "0c0c3b7f",
   "metadata": {},
   "outputs": [],
   "source": [
    "# Choosing Extra Trees Regressor\n",
    "\n",
    "fmod_param = {'criterion' : ['mse', 'mae'],\n",
    "              'n_estimators' : [100, 200],\n",
    "              'min_samples_split' : [2, 3],\n",
    "              'random_state' : [42, 135],\n",
    "              'n_jobs' : [-1, 1]\n",
    "             }"
   ]
  },
  {
   "cell_type": "code",
   "execution_count": null,
   "id": "3ee09ad4",
   "metadata": {},
   "outputs": [],
   "source": [
    "GSCV = GridSearchCV(ExtraTreesRegressor(), fmod_param, cv=5)"
   ]
  },
  {
   "cell_type": "code",
   "execution_count": null,
   "id": "fe2c4815",
   "metadata": {},
   "outputs": [],
   "source": [
    "GSCV.fit(X_train,Y_train)"
   ]
  },
  {
   "cell_type": "code",
   "execution_count": null,
   "id": "93495edd",
   "metadata": {},
   "outputs": [],
   "source": [
    "GSCV.best_params_"
   ]
  },
  {
   "cell_type": "code",
   "execution_count": null,
   "id": "3fbeb0b0",
   "metadata": {},
   "outputs": [],
   "source": [
    "Final_Model = ExtraTreesRegressor(criterion='mse', min_samples_split=3, n_estimators=100, n_jobs=-1, random_state=42)\n",
    "Classifier = Final_Model.fit(X_train, Y_train)\n",
    "fmod_pred = Final_Model.predict(X_test)\n",
    "fmod_r2 = r2_score(Y_test, fmod_pred)*100\n",
    "print(\"R2 score for the Best Model is:\", fmod_r2)"
   ]
  }
 ],
 "metadata": {
  "kernelspec": {
   "display_name": "Python 3 (ipykernel)",
   "language": "python",
   "name": "python3"
  },
  "language_info": {
   "codemirror_mode": {
    "name": "ipython",
    "version": 3
   },
   "file_extension": ".py",
   "mimetype": "text/x-python",
   "name": "python",
   "nbconvert_exporter": "python",
   "pygments_lexer": "ipython3",
   "version": "3.9.7"
  }
 },
 "nbformat": 4,
 "nbformat_minor": 5
}
